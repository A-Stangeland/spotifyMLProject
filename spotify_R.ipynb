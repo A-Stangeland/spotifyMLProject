{
 "cells": [
  {
   "cell_type": "markdown",
   "id": "upper-tenant",
   "metadata": {},
   "source": [
    "### Loading libraries"
   ]
  },
  {
   "cell_type": "code",
   "execution_count": null,
   "id": "fitted-mississippi",
   "metadata": {},
   "outputs": [],
   "source": [
    "library(tidyverse)\n",
    "library(tidymodels)\n",
    "library(gridExtra)"
   ]
  },
  {
   "cell_type": "markdown",
   "id": "agricultural-roulette",
   "metadata": {},
   "source": [
    "### Utility functions"
   ]
  },
  {
   "cell_type": "code",
   "execution_count": null,
   "id": "comparative-compiler",
   "metadata": {},
   "outputs": [],
   "source": [
    "fig <- function(width, heigth){\n",
    "     options(repr.plot.width = width, repr.plot.height = heigth)\n",
    "}"
   ]
  },
  {
   "cell_type": "markdown",
   "id": "looking-citizen",
   "metadata": {},
   "source": [
    "### Loading data"
   ]
  },
  {
   "cell_type": "code",
   "execution_count": null,
   "id": "revolutionary-atmosphere",
   "metadata": {},
   "outputs": [],
   "source": [
    "path <- \"\"\n",
    "\n",
    "names <- read.table(paste(path, \"spotify-names.txt\", sep = \"\"),header = TRUE)\n",
    "songs <- read.table(paste(path, \"spotify-extr.txt\", sep = \"\"),\n",
    "                    sep = \" \", header = TRUE) %>%\n",
    "    as_tibble() %>%\n",
    "    mutate(name = names$x,\n",
    "           key = factor(key),\n",
    "           mode = factor(mode),\n",
    "           pop.class = factor(pop.class)) %>%\n",
    "    relocate(c(pop.class, popularity)) %>%\n",
    "    update_role(name)\n",
    "    #relocate(c(mode, key, name), .after=last_col())\n",
    "\n",
    "songs.quant <- songs %>% select(popularity:tempo)\n",
    "\n",
    "head(songs)"
   ]
  },
  {
   "cell_type": "markdown",
   "id": "hindu-bangkok",
   "metadata": {},
   "source": [
    "## Exploratory statistics"
   ]
  },
  {
   "cell_type": "code",
   "execution_count": null,
   "id": "exclusive-pendant",
   "metadata": {},
   "outputs": [],
   "source": [
    "fig(12,8)\n",
    "songs.quant %>%\n",
    "    #filter(speechiness < .75) %>%\n",
    "    mutate(duration=log(duration)) %>%\n",
    "    pivot_longer(cols=everything(), names_to='variable', values_to='value') %>%\n",
    "ggplot() +\n",
    "    geom_histogram(aes(value), fill='#2FD565', color='#000000', bins=30) +\n",
    "    facet_wrap(~variable, scales='free')"
   ]
  },
  {
   "cell_type": "code",
   "execution_count": null,
   "id": "realistic-emphasis",
   "metadata": {},
   "outputs": [],
   "source": [
    "songs %>%\n",
    "    filter(speechiness > .75 & pop.class=='A') #%>% ggplot() + geom_bar(stat='count', aes(pop.class))"
   ]
  },
  {
   "cell_type": "code",
   "execution_count": null,
   "id": "experienced-acceptance",
   "metadata": {},
   "outputs": [],
   "source": [
    "fig(15,10)\n",
    "songs.quant %>%\n",
    "    mutate(duration=log(duration)) %>%\n",
    "    pivot_longer(cols=!popularity, names_to='variable', values_to='value') %>%\n",
    "ggplot() +\n",
    "    geom_point(aes(value, popularity), size=.7, alpha=.3) + \n",
    "    facet_wrap(~variable, scales='free')"
   ]
  },
  {
   "cell_type": "code",
   "execution_count": null,
   "id": "enormous-pharmacy",
   "metadata": {},
   "outputs": [],
   "source": [
    "fig(15,10)\n",
    "songs %>%\n",
    "    mutate(duration=log(duration)) %>%\n",
    "    select(c(pop.class, valence:tempo)) %>%\n",
    "    pivot_longer(cols=!pop.class, names_to='variable', values_to='value') %>%\n",
    "ggplot() +\n",
    "    geom_jitter(aes(value, pop.class), size=.7, alpha=.3) + \n",
    "    facet_wrap(~variable, scales='free') +\n",
    "    scale_y_discrete(limits=rev)"
   ]
  },
  {
   "cell_type": "code",
   "execution_count": null,
   "id": "composed-packing",
   "metadata": {},
   "outputs": [],
   "source": [
    "library(corrplot)\n",
    "cormat <- cor(songs.quant)\n",
    "corrplot(cormat, method=\"ellipse\")"
   ]
  },
  {
   "cell_type": "code",
   "execution_count": null,
   "id": "fresh-south",
   "metadata": {},
   "outputs": [],
   "source": [
    "fig(8,6)\n",
    "songs %>%\n",
    "ggplot() +\n",
    "    geom_boxplot(aes(x=reorder(key, -popularity, FUN=median), y=popularity), fill='#2FD565', color='#000000') +\n",
    "    labs(x='Key', y='Popularity')\n",
    "\n",
    "\n",
    "songs %>%\n",
    "ggplot() +\n",
    "    geom_bar(stat='count', aes(reorder(key, -popularity, FUN=median)), fill='#2FD565', color='#000000') +\n",
    "    labs(x='Key', y='Count')"
   ]
  },
  {
   "cell_type": "code",
   "execution_count": null,
   "id": "prepared-george",
   "metadata": {},
   "outputs": [],
   "source": [
    "fig(8,6)\n",
    "songs %>%\n",
    "ggplot() +\n",
    "    geom_boxplot(aes(mode, popularity), fill='#2FD565', color='#000000') +\n",
    "    labs(x='Mode', y='Popularity')"
   ]
  },
  {
   "cell_type": "code",
   "execution_count": null,
   "id": "fallen-holiday",
   "metadata": {},
   "outputs": [],
   "source": [
    "library(ggmosaic)\n",
    "songs %>%\n",
    "ggplot() +\n",
    "    geom_mosaic(aes(product(mode, key)), fill='#2FD565')"
   ]
  },
  {
   "cell_type": "markdown",
   "id": "reasonable-sphere",
   "metadata": {},
   "source": [
    "## Principal component analysis"
   ]
  },
  {
   "cell_type": "code",
   "execution_count": null,
   "id": "antique-accordance",
   "metadata": {},
   "outputs": [],
   "source": [
    "library(FactoMineR)\n",
    "library(factoextra)\n",
    "res.pca <- songs.quant %>% \n",
    "    select(!popularity) %>% \n",
    "    PCA(ncp=11)"
   ]
  },
  {
   "cell_type": "code",
   "execution_count": null,
   "id": "chubby-correlation",
   "metadata": {},
   "outputs": [],
   "source": [
    "fig(12,4)\n",
    "g1 <- fviz_eig(res.pca, addlabels=TRUE, ncp=11)\n",
    "\n",
    "g2 <- tibble(pc=c(1:11), eig=res.pca$eig[1:11,3]) %>%\n",
    "ggplot(aes(pc, eig)) + \n",
    "    geom_bar(stat=\"identity\", fill='#4984B3') +\n",
    "    geom_line() + \n",
    "    geom_point() +\n",
    "    scale_x_continuous(breaks=c(1:11), minor_breaks=NULL) +\n",
    "    labs(x='', y='Percentage of variance', title='Cumulative percentage of variance') +\n",
    "    theme_minimal()\n",
    "\n",
    "grid.arrange(g1, g2, nrow=1)"
   ]
  },
  {
   "cell_type": "code",
   "execution_count": null,
   "id": "correct-electron",
   "metadata": {},
   "outputs": [],
   "source": [
    "fig(8,6)\n",
    "fviz_pca_var(res.pca, col.var=\"contrib\") +\n",
    "    scale_color_gradient(low=\"black\", high=\"green\")"
   ]
  },
  {
   "cell_type": "code",
   "execution_count": null,
   "id": "intermediate-masters",
   "metadata": {},
   "outputs": [],
   "source": [
    "name_func <- function(name) {\n",
    "    paste('PC', substring(name, first=5), sep='')\n",
    "}\n",
    "\n",
    "pca.ind <- as_tibble(res.pca$ind$coord) %>%\n",
    "    rename_with(name_func, everything()) %>%\n",
    "    mutate(pop.class=songs$pop.class)\n",
    "\n",
    "gg_color_hue <- function(n) {\n",
    "  hues = seq(15, 375, length = n + 1)\n",
    "  hcl(h = hues, l = 65, c = 100)[1:n]\n",
    "}\n",
    "colors <- gg_color_hue(4)\n",
    "\n",
    "fig(10,8)\n",
    "ggplot(pca.ind) + \n",
    "    geom_point(aes(x=PC1, y=PC2, color=pop.class), alpha=.5) +\n",
    "    scale_y_continuous(limits=c(-5,5)) +\n",
    "    labs(color=\"Popularity class\")"
   ]
  },
  {
   "cell_type": "markdown",
   "id": "occasional-banking",
   "metadata": {},
   "source": [
    "# Classification models"
   ]
  },
  {
   "cell_type": "code",
   "execution_count": null,
   "id": "developing-electron",
   "metadata": {},
   "outputs": [],
   "source": [
    "data_split <- songs %>%\n",
    "    select(!c(popularity, name)) %>%\n",
    "    initial_split(strata = pop.class, prop = 0.75)\n",
    "\n",
    "songs_train <- training(data_split)\n",
    "songs_test <- testing(data_split)"
   ]
  },
  {
   "cell_type": "markdown",
   "id": "baking-boost",
   "metadata": {},
   "source": [
    "## Logistic regression"
   ]
  },
  {
   "cell_type": "code",
   "execution_count": null,
   "id": "other-equality",
   "metadata": {},
   "outputs": [],
   "source": [
    "library(glmnet)"
   ]
  },
  {
   "cell_type": "markdown",
   "id": "prostate-arthur",
   "metadata": {},
   "source": [
    "### Without regularization"
   ]
  },
  {
   "cell_type": "code",
   "execution_count": null,
   "id": "computational-poster",
   "metadata": {},
   "outputs": [],
   "source": [
    "log_reg <- multinom_reg(penalty = 0) %>%\n",
    "    set_engine('glmnet')"
   ]
  },
  {
   "cell_type": "code",
   "execution_count": null,
   "id": "smaller-apartment",
   "metadata": {},
   "outputs": [],
   "source": [
    "log_reg_fit <-\n",
    "    log_reg %>%\n",
    "    set_engine('glmnet') %>%\n",
    "    fit(pop.class ~ ., \n",
    "        data=songs_train)\n",
    "\n",
    "#tidy(log_reg_fit) %>% filter(estimate > 0)"
   ]
  },
  {
   "cell_type": "code",
   "execution_count": null,
   "id": "noticed-algeria",
   "metadata": {},
   "outputs": [],
   "source": [
    "log_reg_results <- \n",
    "  songs_test %>%\n",
    "  select(pop.class) %>%\n",
    "  bind_cols(\n",
    "    predict(log_reg_fit, new_data = songs_test %>% select(-pop.class))\n",
    "  )"
   ]
  },
  {
   "cell_type": "code",
   "execution_count": null,
   "id": "taken-buffer",
   "metadata": {},
   "outputs": [],
   "source": [
    "log_reg_results %>%\n",
    "    conf_mat(truth=pop.class, estimate=.pred_class)\n",
    "\n",
    "log_reg_results %>%\n",
    "    precision(pop.class, .pred_class)"
   ]
  },
  {
   "cell_type": "markdown",
   "id": "antique-argentina",
   "metadata": {},
   "source": [
    "### With regularization"
   ]
  },
  {
   "cell_type": "code",
   "execution_count": null,
   "id": "identical-giant",
   "metadata": {},
   "outputs": [],
   "source": [
    "log_reg <- multinom_reg(penalty = .004, mixture=1) %>%\n",
    "    set_engine('glmnet')"
   ]
  },
  {
   "cell_type": "code",
   "execution_count": null,
   "id": "composite-tension",
   "metadata": {},
   "outputs": [],
   "source": [
    "log_reg_fit <-\n",
    "    log_reg %>%\n",
    "    set_engine('glmnet') %>%\n",
    "    fit(pop.class ~ ., \n",
    "        data=songs_train)\n",
    "\n",
    "tidy(log_reg_fit) %>% filter(estimate > 0)"
   ]
  },
  {
   "cell_type": "code",
   "execution_count": null,
   "id": "consolidated-victim",
   "metadata": {},
   "outputs": [],
   "source": [
    "log_reg_results <- \n",
    "  songs_test %>%\n",
    "  select(pop.class) %>%\n",
    "  bind_cols(\n",
    "    predict(log_reg_fit, new_data = songs_test %>% select(-pop.class))\n",
    "  )"
   ]
  },
  {
   "cell_type": "code",
   "execution_count": null,
   "id": "complete-spring",
   "metadata": {},
   "outputs": [],
   "source": [
    "log_reg_results %>%\n",
    "    conf_mat(truth=pop.class, estimate=.pred_class)\n",
    "\n",
    "log_reg_results %>%\n",
    "    precision(pop.class, .pred_class)"
   ]
  },
  {
   "cell_type": "code",
   "execution_count": null,
   "id": "closed-terminal",
   "metadata": {},
   "outputs": [],
   "source": [
    "log_reg <- multinom_reg(penalty = tune()) %>%\n",
    "    set_engine('glmnet')"
   ]
  },
  {
   "cell_type": "code",
   "execution_count": null,
   "id": "urban-lover",
   "metadata": {},
   "outputs": [],
   "source": [
    "songs_rec <- recipe(pop.class ~ ., data = songs_train)# %>%\n",
    "  #step_normalize(all_numeric(), -all_outcomes())\n",
    "\n",
    "songs_prep <- songs_rec %>%\n",
    "  prep()"
   ]
  },
  {
   "cell_type": "code",
   "execution_count": null,
   "id": "searching-pressure",
   "metadata": {},
   "outputs": [],
   "source": [
    "lasso_spec <- multinom_reg(penalty = 0.1, mixture = 1) %>%\n",
    "  set_engine(\"glmnet\")\n",
    "\n",
    "wf <- workflow() %>%\n",
    "  add_recipe(songs_rec)\n",
    "\n",
    "#lasso_fit <- wf %>%\n",
    "#  add_model(lasso_spec) %>%\n",
    "#  fit(data = songs_train)\n",
    "\n",
    "#lasso_fit %>%\n",
    "#  pull_workflow_fit() %>%\n",
    "#  tidy()"
   ]
  },
  {
   "cell_type": "markdown",
   "id": "skilled-knowing",
   "metadata": {},
   "source": [
    "## SMV"
   ]
  },
  {
   "cell_type": "code",
   "execution_count": null,
   "id": "preceding-bobby",
   "metadata": {},
   "outputs": [],
   "source": [
    "svm_mod <-\n",
    "  svm_rbf(cost = tune(), rbf_sigma = tune()) %>%\n",
    "  set_mode(\"classification\") %>%\n",
    "  set_engine(\"kernlab\")"
   ]
  },
  {
   "cell_type": "code",
   "execution_count": null,
   "id": "informational-processing",
   "metadata": {},
   "outputs": [],
   "source": [
    "songs_rec <-\n",
    "  recipe(pop.class ~ ., data = songs_train)  %>%\n",
    "  # remove any zero variance predictors\n",
    "  step_zv(all_predictors()) %>% \n",
    "  # remove any linear combinations\n",
    "  step_lincomb(all_numeric())"
   ]
  },
  {
   "cell_type": "code",
   "execution_count": null,
   "id": "residential-tampa",
   "metadata": {},
   "outputs": [],
   "source": [
    "songs_rs <- bootstraps(songs_train, times = 5)"
   ]
  },
  {
   "cell_type": "code",
   "execution_count": null,
   "id": "jewish-footage",
   "metadata": {},
   "outputs": [],
   "source": [
    "roc_vals <- metric_set(roc_auc)\n",
    "ctrl <- control_grid(verbose = FALSE, save_pred = TRUE)"
   ]
  },
  {
   "cell_type": "code",
   "execution_count": null,
   "id": "rough-execution",
   "metadata": {},
   "outputs": [],
   "source": [
    "formula_res <-\n",
    "  svm_mod %>% \n",
    "  tune_grid(\n",
    "    pop.class ~ .,\n",
    "    resamples = songs_rs#,\n",
    "#    metrics = roc_vals,\n",
    "#    control = ctrl\n",
    "  )\n",
    "#formula_res"
   ]
  },
  {
   "cell_type": "code",
   "execution_count": null,
   "id": "prospective-dressing",
   "metadata": {},
   "outputs": [],
   "source": [
    "formula_res"
   ]
  }
 ],
 "metadata": {
  "kernelspec": {
   "display_name": "R",
   "language": "R",
   "name": "ir"
  },
  "language_info": {
   "codemirror_mode": "r",
   "file_extension": ".r",
   "mimetype": "text/x-r-source",
   "name": "R",
   "pygments_lexer": "r",
   "version": "4.0.3"
  }
 },
 "nbformat": 4,
 "nbformat_minor": 5
}
