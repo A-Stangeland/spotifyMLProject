{
 "cells": [
  {
   "cell_type": "markdown",
   "id": "upper-tenant",
   "metadata": {},
   "source": [
    "### Loading libraries"
   ]
  },
  {
   "cell_type": "code",
   "execution_count": null,
   "id": "fitted-mississippi",
   "metadata": {},
   "outputs": [],
   "source": [
    "library(tidyverse)\n",
    "library(tidymodels)\n",
    "library(gridExtra)"
   ]
  },
  {
   "cell_type": "markdown",
   "id": "agricultural-roulette",
   "metadata": {},
   "source": [
    "### Utility functions"
   ]
  },
  {
   "cell_type": "code",
   "execution_count": null,
   "id": "comparative-compiler",
   "metadata": {},
   "outputs": [],
   "source": [
    "fig <- function(width, heigth){\n",
    "     options(repr.plot.width = width, repr.plot.height = heigth)\n",
    "}"
   ]
  },
  {
   "cell_type": "markdown",
   "id": "looking-citizen",
   "metadata": {},
   "source": [
    "### Loading data"
   ]
  },
  {
   "cell_type": "code",
   "execution_count": null,
   "id": "revolutionary-atmosphere",
   "metadata": {},
   "outputs": [],
   "source": [
    "path <- \"\"\n",
    "\n",
    "names <- read.table(paste(path, \"spotify-names.txt\", sep = \"\"),header = TRUE)\n",
    "songs <- read.table(paste(path, \"spotify-extr.txt\", sep = \"\"),\n",
    "                    sep = \" \", header = TRUE) %>%\n",
    "    as_tibble() %>%\n",
    "    mutate(name = names$x,\n",
    "           key = factor(key),\n",
    "           mode = factor(mode),\n",
    "           pop.class = factor(pop.class)) %>%\n",
    "    relocate(c(pop.class, popularity)) %>%\n",
    "    relocate(c(mode, key, name), .after=last_col())\n",
    "\n",
    "songs.quant <- songs %>% select(popularity:tempo)\n",
    "\n",
    "head(songs)"
   ]
  },
  {
   "cell_type": "markdown",
   "id": "hindu-bangkok",
   "metadata": {},
   "source": [
    "## Exploratory statistics"
   ]
  },
  {
   "cell_type": "code",
   "execution_count": null,
   "id": "exclusive-pendant",
   "metadata": {},
   "outputs": [],
   "source": [
    "fig(12,8)\n",
    "songs.quant %>%\n",
    "    mutate(duration=log(duration)) %>%\n",
    "    pivot_longer(cols=everything(), names_to='variable', values_to='value') %>%\n",
    "ggplot() +\n",
    "    geom_histogram(aes(value), fill='#2FD565', color='#000000', bins=30) +\n",
    "    facet_wrap(~variable, scales='free')"
   ]
  },
  {
   "cell_type": "code",
   "execution_count": null,
   "id": "experienced-acceptance",
   "metadata": {},
   "outputs": [],
   "source": [
    "fig(12,8)\n",
    "songs.quant %>%\n",
    "    mutate(duration=log(duration)) %>%\n",
    "    pivot_longer(cols=!popularity, names_to='variable', values_to='value') %>%\n",
    "ggplot() +\n",
    "    geom_point(aes(value, popularity), size=.7, alpha=.3) + \n",
    "    facet_wrap(~variable, scales='free')"
   ]
  },
  {
   "cell_type": "code",
   "execution_count": null,
   "id": "composed-packing",
   "metadata": {},
   "outputs": [],
   "source": [
    "library(corrplot)\n",
    "cormat <- cor(songs.quant)\n",
    "corrplot(cormat, method=\"ellipse\")"
   ]
  },
  {
   "cell_type": "markdown",
   "id": "reasonable-sphere",
   "metadata": {},
   "source": [
    "## Principal component analysis"
   ]
  },
  {
   "cell_type": "code",
   "execution_count": null,
   "id": "antique-accordance",
   "metadata": {},
   "outputs": [],
   "source": [
    "library(FactoMineR)\n",
    "library(factoextra)\n",
    "res.pca <- songs.quant %>% \n",
    "    select(!popularity) %>% \n",
    "    PCA(ncp=11)"
   ]
  },
  {
   "cell_type": "code",
   "execution_count": null,
   "id": "chubby-correlation",
   "metadata": {},
   "outputs": [],
   "source": [
    "fig(12,4)\n",
    "g1 <- fviz_eig(res.pca, addlabels=TRUE, ncp=11)\n",
    "\n",
    "g2 <- tibble(pc=c(1:11), eig=res.pca$eig[1:11,3]) %>%\n",
    "ggplot(aes(pc, eig)) + \n",
    "    geom_bar(stat=\"identity\", fill='#4984B3') +\n",
    "    geom_line() + \n",
    "    geom_point() +\n",
    "    scale_x_continuous(breaks=c(1:11), minor_breaks=NULL) +\n",
    "    labs(x='', y='Percentage of variance', title='Cumulative percentage of variance') +\n",
    "    theme_minimal()\n",
    "\n",
    "grid.arrange(g1, g2, nrow=1)"
   ]
  },
  {
   "cell_type": "code",
   "execution_count": null,
   "id": "correct-electron",
   "metadata": {},
   "outputs": [],
   "source": [
    "fig(8,6)\n",
    "fviz_pca_var(res.pca, col.var=\"contrib\") +\n",
    "    scale_color_gradient(low=\"black\", high=\"green\")"
   ]
  },
  {
   "cell_type": "code",
   "execution_count": null,
   "id": "intermediate-masters",
   "metadata": {},
   "outputs": [],
   "source": [
    "name_func <- function(name) {\n",
    "    paste('PC', substring(name, first=5), sep='')\n",
    "}\n",
    "\n",
    "pca.ind <- as_tibble(res.pca$ind$coord) %>%\n",
    "    rename_with(name_func, everything())\n",
    "\n",
    "fig(10,8)\n",
    "ggplot(pca.ind) + \n",
    "    geom_point(aes(x=PC1, y=PC2, col=songs$pop.class), alpha=.5) +\n",
    "    scale_y_continuous(limits=c(-5,5)) +\n",
    "    labs(color=\"Popularity class\")"
   ]
  },
  {
   "cell_type": "markdown",
   "id": "occasional-banking",
   "metadata": {},
   "source": [
    "# Regression models"
   ]
  },
  {
   "cell_type": "code",
   "execution_count": null,
   "id": "developing-electron",
   "metadata": {},
   "outputs": [],
   "source": [
    "data_split <- songs %>%\n",
    "    select(c(pop.class, valence:tempo)) %>%\n",
    "    initial_split(strata = pop.class, prop = 0.75)\n",
    "\n",
    "songs_train <- training(data_split)\n",
    "songs_test <- testing(data_split)"
   ]
  },
  {
   "cell_type": "markdown",
   "id": "baking-boost",
   "metadata": {},
   "source": [
    "### Linear model"
   ]
  },
  {
   "cell_type": "code",
   "execution_count": null,
   "id": "computational-poster",
   "metadata": {},
   "outputs": [],
   "source": [
    "lin_mod <- glm(pop.class ~ ., data=songs_train, family='binomial')\n",
    "lin_mod"
   ]
  },
  {
   "cell_type": "code",
   "execution_count": null,
   "id": "noticed-algeria",
   "metadata": {},
   "outputs": [],
   "source": [
    "predict(lin_mod, songs_test)[1:10]\n",
    "songs_test$pop.class[1:10]"
   ]
  }
 ],
 "metadata": {
  "kernelspec": {
   "display_name": "R",
   "language": "R",
   "name": "ir"
  },
  "language_info": {
   "codemirror_mode": "r",
   "file_extension": ".r",
   "mimetype": "text/x-r-source",
   "name": "R",
   "pygments_lexer": "r",
   "version": "4.0.3"
  }
 },
 "nbformat": 4,
 "nbformat_minor": 5
}
