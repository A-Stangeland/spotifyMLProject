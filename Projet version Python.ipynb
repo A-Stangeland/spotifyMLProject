{
 "cells": [
  {
   "cell_type": "code",
   "execution_count": null,
   "metadata": {},
   "outputs": [],
   "source": [
    "import pandas as pd\n",
    "import numpy as np\n",
    "import seaborn as sns\n",
    "from matplotlib import pyplot as plt\n",
    "from itertools import combinations"
   ]
  },
  {
   "cell_type": "code",
   "execution_count": null,
   "metadata": {},
   "outputs": [],
   "source": [
    "#names = pd.read_csv(\"spotify-names.txt\", sep='\\s+')#delim_whitespace=True)\n",
    "song = pd.read_csv(\"spotify-extr.txt\", delim_whitespace=True)\n",
    "\n",
    "song.head()\n"
   ]
  },
  {
   "cell_type": "code",
   "execution_count": null,
   "metadata": {},
   "outputs": [],
   "source": [
    "print(song['pop.class'].unique())"
   ]
  },
  {
   "cell_type": "code",
   "execution_count": null,
   "metadata": {},
   "outputs": [],
   "source": [
    "songs = pd.DataFrame(song)\n",
    "print(songs.describe())"
   ]
  },
  {
   "cell_type": "code",
   "execution_count": null,
   "metadata": {},
   "outputs": [],
   "source": [
    "songs.dtypes"
   ]
  },
  {
   "cell_type": "code",
   "execution_count": null,
   "metadata": {},
   "outputs": [],
   "source": [
    "songs['mode'] = songs['mode'].astype(object)\n",
    "songs.dtypes"
   ]
  },
  {
   "cell_type": "markdown",
   "metadata": {},
   "source": [
    "# Exploratory statistics"
   ]
  },
  {
   "cell_type": "code",
   "execution_count": null,
   "metadata": {},
   "outputs": [],
   "source": [
    "songs_hist = songs[[\"acousticness\",\"danceability\", \"duration\", \"energy\", \"instrumentalness\", \"liveness\", \"loudness\", \"popularity\", \"speechiness\", \"tempo\", \"valence\", \"year\"]]\n",
    "\n",
    "fig, axes = plt.subplots(len(songs_hist.columns)//4, 4, figsize=(12, 12))\n",
    "\n",
    "i = 0\n",
    "for triaxis in axes:\n",
    "    for axis in triaxis:\n",
    "        songs_hist.hist(column = songs_hist.columns[i], bins = 30, ax=axis, color='#2FD565', edgecolor='black')\n",
    "        i+=1"
   ]
  },
  {
   "cell_type": "code",
   "execution_count": null,
   "metadata": {},
   "outputs": [],
   "source": [
    "plt.subplot(1,2,1)\n",
    "plt.hist(songs[\"duration\"], bins=50, color='#2FD565', edgecolor='black')\n",
    "plt.xlabel(\"Duration\")\n",
    "plt.ylabel(\"Count\")\n",
    "plt.grid(True)\n",
    "\n",
    "plt.subplot(1,2,2)\n",
    "plt.hist(np.log(songs[\"duration\"]), bins=50, color='#2FD565', edgecolor='black')\n",
    "plt.xlabel(\"log(Duration)\")\n",
    "plt.ylabel(\"Count\")\n",
    "plt.grid(True)\n",
    "\n",
    "plt.tight_layout()"
   ]
  },
  {
   "cell_type": "code",
   "execution_count": null,
   "metadata": {},
   "outputs": [],
   "source": [
    "fig, ax = plt.subplots(figsize=(10,6))\n",
    "songs.boxplot(by='pop.class', column=['year'], ax=ax, \n",
    "              patch_artist=True, \n",
    "              boxprops={'facecolor':'#2FD565'}, \n",
    "              medianprops={'color':'#000000'}, \n",
    "              whiskerprops={'color':'#000000'})\n",
    "ax.set_title('')\n",
    "ax.set_ylabel('Year')"
   ]
  },
  {
   "cell_type": "code",
   "execution_count": null,
   "metadata": {},
   "outputs": [],
   "source": [
    "fig, ax = plt.subplots(figsize=(10,6))\n",
    "songs.boxplot(by='pop.class', column=['acousticness'], ax=ax, \n",
    "              patch_artist=True, \n",
    "              boxprops={'facecolor':'#2FD565'}, \n",
    "              medianprops={'color':'#000000'}, \n",
    "              whiskerprops={'color':'#000000'})\n",
    "ax.set_title('')\n",
    "ax.set_ylabel('Acousticness')"
   ]
  },
  {
   "cell_type": "code",
   "execution_count": null,
   "metadata": {},
   "outputs": [],
   "source": []
  }
 ],
 "metadata": {
  "kernelspec": {
   "display_name": "Python 3",
   "language": "python",
   "name": "python3"
  },
  "language_info": {
   "codemirror_mode": {
    "name": "ipython",
    "version": 3
   },
   "file_extension": ".py",
   "mimetype": "text/x-python",
   "name": "python",
   "nbconvert_exporter": "python",
   "pygments_lexer": "ipython3",
   "version": "3.7.0"
  }
 },
 "nbformat": 4,
 "nbformat_minor": 2
}
