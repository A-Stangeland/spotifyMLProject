{
 "cells": [
  {
   "cell_type": "code",
   "execution_count": 84,
   "metadata": {},
   "outputs": [],
   "source": [
    "import pandas as pd\n",
    "import numpy as np\n",
    "import seaborn as sns\n",
    "from matplotlib import pyplot as plt\n",
    "from itertools import combinations\n",
    "from sklearn.linear_model import LogisticRegression\n",
    "from sklearn.model_selection import train_test_split\n",
    "from sklearn.metrics import accuracy_score\n",
    "from sklearn.preprocessing import StandardScaler\n",
    "from sklearn.tree import DecisionTreeClassifier\n",
    "from sklearn.ensemble import RandomForestClassifier"
   ]
  },
  {
   "cell_type": "code",
   "execution_count": 55,
   "metadata": {},
   "outputs": [
    {
     "data": {
      "text/html": [
       "<div>\n",
       "<style scoped>\n",
       "    .dataframe tbody tr th:only-of-type {\n",
       "        vertical-align: middle;\n",
       "    }\n",
       "\n",
       "    .dataframe tbody tr th {\n",
       "        vertical-align: top;\n",
       "    }\n",
       "\n",
       "    .dataframe thead th {\n",
       "        text-align: right;\n",
       "    }\n",
       "</style>\n",
       "<table border=\"1\" class=\"dataframe\">\n",
       "  <thead>\n",
       "    <tr style=\"text-align: right;\">\n",
       "      <th></th>\n",
       "      <th>valence</th>\n",
       "      <th>year</th>\n",
       "      <th>acousticness</th>\n",
       "      <th>danceability</th>\n",
       "      <th>duration</th>\n",
       "      <th>energy</th>\n",
       "      <th>instrumentalness</th>\n",
       "      <th>key</th>\n",
       "      <th>liveness</th>\n",
       "      <th>loudness</th>\n",
       "      <th>mode</th>\n",
       "      <th>popularity</th>\n",
       "      <th>speechiness</th>\n",
       "      <th>tempo</th>\n",
       "      <th>pop.class</th>\n",
       "    </tr>\n",
       "  </thead>\n",
       "  <tbody>\n",
       "    <tr>\n",
       "      <th>161704</th>\n",
       "      <td>0.647</td>\n",
       "      <td>1975</td>\n",
       "      <td>0.4490</td>\n",
       "      <td>0.376</td>\n",
       "      <td>298840</td>\n",
       "      <td>0.827</td>\n",
       "      <td>0.007880</td>\n",
       "      <td>B</td>\n",
       "      <td>0.466</td>\n",
       "      <td>-7.604</td>\n",
       "      <td>1</td>\n",
       "      <td>25</td>\n",
       "      <td>0.3990</td>\n",
       "      <td>170.475</td>\n",
       "      <td>C</td>\n",
       "    </tr>\n",
       "    <tr>\n",
       "      <th>168077</th>\n",
       "      <td>0.150</td>\n",
       "      <td>2008</td>\n",
       "      <td>0.8990</td>\n",
       "      <td>0.508</td>\n",
       "      <td>236800</td>\n",
       "      <td>0.169</td>\n",
       "      <td>0.000011</td>\n",
       "      <td>Ab</td>\n",
       "      <td>0.136</td>\n",
       "      <td>-11.332</td>\n",
       "      <td>1</td>\n",
       "      <td>42</td>\n",
       "      <td>0.0553</td>\n",
       "      <td>107.477</td>\n",
       "      <td>B</td>\n",
       "    </tr>\n",
       "    <tr>\n",
       "      <th>35922</th>\n",
       "      <td>0.423</td>\n",
       "      <td>2007</td>\n",
       "      <td>0.0185</td>\n",
       "      <td>0.470</td>\n",
       "      <td>301093</td>\n",
       "      <td>0.878</td>\n",
       "      <td>0.083900</td>\n",
       "      <td>B</td>\n",
       "      <td>0.276</td>\n",
       "      <td>-5.576</td>\n",
       "      <td>0</td>\n",
       "      <td>65</td>\n",
       "      <td>0.0377</td>\n",
       "      <td>150.093</td>\n",
       "      <td>A</td>\n",
       "    </tr>\n",
       "    <tr>\n",
       "      <th>135823</th>\n",
       "      <td>0.302</td>\n",
       "      <td>1995</td>\n",
       "      <td>0.0384</td>\n",
       "      <td>0.176</td>\n",
       "      <td>142200</td>\n",
       "      <td>0.980</td>\n",
       "      <td>0.552000</td>\n",
       "      <td>B</td>\n",
       "      <td>0.237</td>\n",
       "      <td>-3.154</td>\n",
       "      <td>1</td>\n",
       "      <td>36</td>\n",
       "      <td>0.0721</td>\n",
       "      <td>172.566</td>\n",
       "      <td>C</td>\n",
       "    </tr>\n",
       "    <tr>\n",
       "      <th>165395</th>\n",
       "      <td>0.828</td>\n",
       "      <td>1994</td>\n",
       "      <td>0.5310</td>\n",
       "      <td>0.705</td>\n",
       "      <td>187800</td>\n",
       "      <td>0.625</td>\n",
       "      <td>0.000008</td>\n",
       "      <td>G</td>\n",
       "      <td>0.348</td>\n",
       "      <td>-11.963</td>\n",
       "      <td>0</td>\n",
       "      <td>38</td>\n",
       "      <td>0.0639</td>\n",
       "      <td>97.831</td>\n",
       "      <td>C</td>\n",
       "    </tr>\n",
       "  </tbody>\n",
       "</table>\n",
       "</div>"
      ],
      "text/plain": [
       "        valence  year  acousticness  danceability  duration  energy  \\\n",
       "161704    0.647  1975        0.4490         0.376    298840   0.827   \n",
       "168077    0.150  2008        0.8990         0.508    236800   0.169   \n",
       "35922     0.423  2007        0.0185         0.470    301093   0.878   \n",
       "135823    0.302  1995        0.0384         0.176    142200   0.980   \n",
       "165395    0.828  1994        0.5310         0.705    187800   0.625   \n",
       "\n",
       "        instrumentalness key  liveness  loudness  mode  popularity  \\\n",
       "161704          0.007880   B     0.466    -7.604     1          25   \n",
       "168077          0.000011  Ab     0.136   -11.332     1          42   \n",
       "35922           0.083900   B     0.276    -5.576     0          65   \n",
       "135823          0.552000   B     0.237    -3.154     1          36   \n",
       "165395          0.000008   G     0.348   -11.963     0          38   \n",
       "\n",
       "        speechiness    tempo pop.class  \n",
       "161704       0.3990  170.475         C  \n",
       "168077       0.0553  107.477         B  \n",
       "35922        0.0377  150.093         A  \n",
       "135823       0.0721  172.566         C  \n",
       "165395       0.0639   97.831         C  "
      ]
     },
     "execution_count": 55,
     "metadata": {},
     "output_type": "execute_result"
    }
   ],
   "source": [
    "#names = pd.read_csv(\"spotify-names.txt\", sep='\\s+')#delim_whitespace=True)\n",
    "song = pd.read_csv(\"spotify-extr.txt\", delim_whitespace=True)\n",
    "\n",
    "song.head()\n"
   ]
  },
  {
   "cell_type": "code",
   "execution_count": 56,
   "metadata": {},
   "outputs": [
    {
     "name": "stdout",
     "output_type": "stream",
     "text": [
      "['B' 'Ab' 'G' 'D' 'E' 'F' 'Bb' 'Eb' 'A' 'Db' 'C' 'Gb']\n"
     ]
    }
   ],
   "source": [
    "print(song['key'].unique())"
   ]
  },
  {
   "cell_type": "code",
   "execution_count": 57,
   "metadata": {},
   "outputs": [
    {
     "name": "stdout",
     "output_type": "stream",
     "text": [
      "            valence          year  acousticness  danceability      duration  \\\n",
      "count  10000.000000  10000.000000  10000.000000  10000.000000  1.000000e+04   \n",
      "mean       0.532815   1977.026200      0.495719      0.540029  2.272151e+05   \n",
      "std        0.262431     26.000068      0.377681      0.176193  1.124568e+05   \n",
      "min        0.000000   1921.000000      0.000000      0.000000  5.991000e+03   \n",
      "25%        0.324000   1956.000000      0.092675      0.417000  1.690670e+05   \n",
      "50%        0.543000   1978.000000      0.504000      0.550000  2.065295e+05   \n",
      "75%        0.751000   1999.000000      0.889250      0.671000  2.597330e+05   \n",
      "max        0.993000   2020.000000      0.996000      0.988000  2.703227e+06   \n",
      "\n",
      "             energy  instrumentalness      liveness      loudness  \\\n",
      "count  10000.000000      10000.000000  10000.000000  10000.000000   \n",
      "mean       0.487500          0.164947      0.204063    -11.437683   \n",
      "std        0.267729          0.313327      0.173221      5.787993   \n",
      "min        0.000000          0.000000      0.000000    -60.000000   \n",
      "25%        0.262000          0.000000      0.097800    -14.557000   \n",
      "50%        0.476000          0.000174      0.135000    -10.552500   \n",
      "75%        0.708000          0.087100      0.256000     -7.115500   \n",
      "max        1.000000          1.000000      0.991000      1.342000   \n",
      "\n",
      "              mode    popularity   speechiness         tempo  \n",
      "count  10000.00000  10000.000000  10000.000000  10000.000000  \n",
      "mean       0.71470     31.558100      0.101815    116.865750  \n",
      "std        0.45158     21.915904      0.168111     30.969039  \n",
      "min        0.00000      0.000000      0.000000      0.000000  \n",
      "25%        0.00000     11.000000      0.035000     93.564500  \n",
      "50%        1.00000     33.000000      0.045400    114.437500  \n",
      "75%        1.00000     48.250000      0.078600    135.470000  \n",
      "max        1.00000     93.000000      0.969000    214.419000  \n"
     ]
    }
   ],
   "source": [
    "songs = pd.DataFrame(song)\n",
    "print(songs.describe())"
   ]
  },
  {
   "cell_type": "code",
   "execution_count": 58,
   "metadata": {},
   "outputs": [
    {
     "data": {
      "text/plain": [
       "valence             float64\n",
       "year                  int64\n",
       "acousticness        float64\n",
       "danceability        float64\n",
       "duration              int64\n",
       "energy              float64\n",
       "instrumentalness    float64\n",
       "key                  object\n",
       "liveness            float64\n",
       "loudness            float64\n",
       "mode                  int64\n",
       "popularity            int64\n",
       "speechiness         float64\n",
       "tempo               float64\n",
       "pop.class            object\n",
       "dtype: object"
      ]
     },
     "execution_count": 58,
     "metadata": {},
     "output_type": "execute_result"
    }
   ],
   "source": [
    "songs.dtypes"
   ]
  },
  {
   "cell_type": "code",
   "execution_count": 59,
   "metadata": {},
   "outputs": [
    {
     "data": {
      "text/plain": [
       "valence             float64\n",
       "year                  int64\n",
       "acousticness        float64\n",
       "danceability        float64\n",
       "duration            float64\n",
       "energy              float64\n",
       "instrumentalness    float64\n",
       "key                  object\n",
       "liveness            float64\n",
       "loudness            float64\n",
       "mode                 object\n",
       "popularity            int64\n",
       "speechiness         float64\n",
       "tempo               float64\n",
       "pop.class            object\n",
       "dtype: object"
      ]
     },
     "execution_count": 59,
     "metadata": {},
     "output_type": "execute_result"
    }
   ],
   "source": [
    "songs['duration'] = songs['duration'].astype(float)\n",
    "songs['mode'] = songs['mode'].astype(object)\n",
    "songs.dtypes"
   ]
  },
  {
   "cell_type": "markdown",
   "metadata": {},
   "source": [
    "# Exploratory statistics"
   ]
  },
  {
   "cell_type": "code",
   "execution_count": 60,
   "metadata": {},
   "outputs": [
    {
     "data": {
      "image/png": "[encoded data removed]",
      "text/plain": [
       "<Figure size 864x864 with 12 Axes>"
      ]
     },
     "metadata": {
      "needs_background": "light"
     },
     "output_type": "display_data"
    }
   ],
   "source": [
    "songs_hist = songs[[\"acousticness\",\"danceability\", \"duration\", \"energy\", \"instrumentalness\", \"liveness\", \"loudness\", \"popularity\", \"speechiness\", \"tempo\", \"valence\", \"year\"]]\n",
    "\n",
    "fig, axes = plt.subplots(len(songs_hist.columns)//4, 4, figsize=(12, 12))\n",
    "\n",
    "i = 0\n",
    "for triaxis in axes:\n",
    "    for axis in triaxis:\n",
    "        songs_hist.hist(column = songs_hist.columns[i], bins = 30, ax=axis, color='#2FD565', edgecolor='black')\n",
    "        i+=1"
   ]
  },
  {
   "cell_type": "code",
   "execution_count": 61,
   "metadata": {},
   "outputs": [
    {
     "data": {
      "image/png": "[encoded data removed]",
      "text/plain": [
       "<Figure size 432x288 with 2 Axes>"
      ]
     },
     "metadata": {
      "needs_background": "light"
     },
     "output_type": "display_data"
    }
   ],
   "source": [
    "plt.subplot(1,2,1)\n",
    "plt.hist(songs[\"duration\"], bins=50, color='#2FD565', edgecolor='black')\n",
    "plt.xlabel(\"Duration\")\n",
    "plt.ylabel(\"Count\")\n",
    "plt.grid(True)\n",
    "\n",
    "plt.subplot(1,2,2)\n",
    "plt.hist(np.log(songs[\"duration\"]), bins=50, color='#2FD565', edgecolor='black')\n",
    "plt.xlabel(\"log(Duration)\")\n",
    "plt.ylabel(\"Count\")\n",
    "plt.grid(True)\n",
    "\n",
    "plt.tight_layout()"
   ]
  },
  {
   "cell_type": "code",
   "execution_count": 62,
   "metadata": {},
   "outputs": [
    {
     "data": {
      "text/plain": [
       "Text(0, 0.5, 'Year')"
      ]
     },
     "execution_count": 62,
     "metadata": {},
     "output_type": "execute_result"
    },
    {
     "data": {
      "image/png": "[encoded data removed]",
      "text/plain": [
       "<Figure size 720x432 with 1 Axes>"
      ]
     },
     "metadata": {
      "needs_background": "light"
     },
     "output_type": "display_data"
    }
   ],
   "source": [
    "fig, ax = plt.subplots(figsize=(10,6))\n",
    "songs.boxplot(by='pop.class', column=['year'], ax=ax, \n",
    "              patch_artist=True, \n",
    "              boxprops={'facecolor':'#2FD565'}, \n",
    "              medianprops={'color':'#000000'}, \n",
    "              whiskerprops={'color':'#000000'})\n",
    "ax.set_title('')\n",
    "ax.set_ylabel('Year')"
   ]
  },
  {
   "cell_type": "code",
   "execution_count": 63,
   "metadata": {},
   "outputs": [
    {
     "data": {
      "text/plain": [
       "Text(0, 0.5, 'Acousticness')"
      ]
     },
     "execution_count": 63,
     "metadata": {},
     "output_type": "execute_result"
    },
    {
     "data": {
      "image/png": "[encoded data removed]",
      "text/plain": [
       "<Figure size 720x432 with 1 Axes>"
      ]
     },
     "metadata": {
      "needs_background": "light"
     },
     "output_type": "display_data"
    }
   ],
   "source": [
    "fig, ax = plt.subplots(figsize=(10,6))\n",
    "songs.boxplot(by='pop.class', column=['acousticness'], ax=ax, \n",
    "              patch_artist=True, \n",
    "              boxprops={'facecolor':'#2FD565'}, \n",
    "              medianprops={'color':'#000000'}, \n",
    "              whiskerprops={'color':'#000000'})\n",
    "ax.set_title('')\n",
    "ax.set_ylabel('Acousticness')"
   ]
  },
  {
   "cell_type": "markdown",
   "metadata": {},
   "source": [
    "# Classificiation Models"
   ]
  },
  {
   "cell_type": "markdown",
   "metadata": {},
   "source": [
    "## Logistic Regression"
   ]
  },
  {
   "cell_type": "markdown",
   "metadata": {},
   "source": [
    "### Data preparation"
   ]
  },
  {
   "cell_type": "code",
   "execution_count": 64,
   "metadata": {},
   "outputs": [
    {
     "name": "stdout",
     "output_type": "stream",
     "text": [
      "['B' 'Ab' 'G' 'D' 'E' 'F' 'Bb' 'Eb' 'A' 'Db' 'C' 'Gb']\n"
     ]
    }
   ],
   "source": [
    "print(song['key'].unique())"
   ]
  },
  {
   "cell_type": "markdown",
   "metadata": {},
   "source": [
    "https://www.andrew.cmu.edu/user/johnito/music_theory/20thC/LectureNotes/1-SetClasses.pdf (Mapping)"
   ]
  },
  {
   "cell_type": "code",
   "execution_count": 65,
   "metadata": {},
   "outputs": [],
   "source": [
    "songs['key'] = songs['key'].map({'C': 0, 'Db': 1, 'D': 2, 'Eb': 3, 'E': 4, 'F': 5, 'Gb': 6, 'G':7, 'Ab': 8, 'A':9, 'Bb': 10, 'B': 11 })"
   ]
  },
  {
   "cell_type": "code",
   "execution_count": 66,
   "metadata": {},
   "outputs": [
    {
     "data": {
      "text/html": [
       "<div>\n",
       "<style scoped>\n",
       "    .dataframe tbody tr th:only-of-type {\n",
       "        vertical-align: middle;\n",
       "    }\n",
       "\n",
       "    .dataframe tbody tr th {\n",
       "        vertical-align: top;\n",
       "    }\n",
       "\n",
       "    .dataframe thead th {\n",
       "        text-align: right;\n",
       "    }\n",
       "</style>\n",
       "<table border=\"1\" class=\"dataframe\">\n",
       "  <thead>\n",
       "    <tr style=\"text-align: right;\">\n",
       "      <th></th>\n",
       "      <th>valence</th>\n",
       "      <th>year</th>\n",
       "      <th>acousticness</th>\n",
       "      <th>danceability</th>\n",
       "      <th>duration</th>\n",
       "      <th>energy</th>\n",
       "      <th>instrumentalness</th>\n",
       "      <th>key</th>\n",
       "      <th>liveness</th>\n",
       "      <th>loudness</th>\n",
       "      <th>mode</th>\n",
       "      <th>popularity</th>\n",
       "      <th>speechiness</th>\n",
       "      <th>tempo</th>\n",
       "      <th>pop.class</th>\n",
       "    </tr>\n",
       "  </thead>\n",
       "  <tbody>\n",
       "    <tr>\n",
       "      <th>161704</th>\n",
       "      <td>0.647</td>\n",
       "      <td>1975</td>\n",
       "      <td>0.4490</td>\n",
       "      <td>0.376</td>\n",
       "      <td>298840.0</td>\n",
       "      <td>0.827</td>\n",
       "      <td>0.007880</td>\n",
       "      <td>11</td>\n",
       "      <td>0.466</td>\n",
       "      <td>-7.604</td>\n",
       "      <td>1</td>\n",
       "      <td>25</td>\n",
       "      <td>0.3990</td>\n",
       "      <td>170.475</td>\n",
       "      <td>C</td>\n",
       "    </tr>\n",
       "    <tr>\n",
       "      <th>168077</th>\n",
       "      <td>0.150</td>\n",
       "      <td>2008</td>\n",
       "      <td>0.8990</td>\n",
       "      <td>0.508</td>\n",
       "      <td>236800.0</td>\n",
       "      <td>0.169</td>\n",
       "      <td>0.000011</td>\n",
       "      <td>8</td>\n",
       "      <td>0.136</td>\n",
       "      <td>-11.332</td>\n",
       "      <td>1</td>\n",
       "      <td>42</td>\n",
       "      <td>0.0553</td>\n",
       "      <td>107.477</td>\n",
       "      <td>B</td>\n",
       "    </tr>\n",
       "    <tr>\n",
       "      <th>35922</th>\n",
       "      <td>0.423</td>\n",
       "      <td>2007</td>\n",
       "      <td>0.0185</td>\n",
       "      <td>0.470</td>\n",
       "      <td>301093.0</td>\n",
       "      <td>0.878</td>\n",
       "      <td>0.083900</td>\n",
       "      <td>11</td>\n",
       "      <td>0.276</td>\n",
       "      <td>-5.576</td>\n",
       "      <td>0</td>\n",
       "      <td>65</td>\n",
       "      <td>0.0377</td>\n",
       "      <td>150.093</td>\n",
       "      <td>A</td>\n",
       "    </tr>\n",
       "    <tr>\n",
       "      <th>135823</th>\n",
       "      <td>0.302</td>\n",
       "      <td>1995</td>\n",
       "      <td>0.0384</td>\n",
       "      <td>0.176</td>\n",
       "      <td>142200.0</td>\n",
       "      <td>0.980</td>\n",
       "      <td>0.552000</td>\n",
       "      <td>11</td>\n",
       "      <td>0.237</td>\n",
       "      <td>-3.154</td>\n",
       "      <td>1</td>\n",
       "      <td>36</td>\n",
       "      <td>0.0721</td>\n",
       "      <td>172.566</td>\n",
       "      <td>C</td>\n",
       "    </tr>\n",
       "    <tr>\n",
       "      <th>165395</th>\n",
       "      <td>0.828</td>\n",
       "      <td>1994</td>\n",
       "      <td>0.5310</td>\n",
       "      <td>0.705</td>\n",
       "      <td>187800.0</td>\n",
       "      <td>0.625</td>\n",
       "      <td>0.000008</td>\n",
       "      <td>7</td>\n",
       "      <td>0.348</td>\n",
       "      <td>-11.963</td>\n",
       "      <td>0</td>\n",
       "      <td>38</td>\n",
       "      <td>0.0639</td>\n",
       "      <td>97.831</td>\n",
       "      <td>C</td>\n",
       "    </tr>\n",
       "  </tbody>\n",
       "</table>\n",
       "</div>"
      ],
      "text/plain": [
       "        valence  year  acousticness  danceability  duration  energy  \\\n",
       "161704    0.647  1975        0.4490         0.376  298840.0   0.827   \n",
       "168077    0.150  2008        0.8990         0.508  236800.0   0.169   \n",
       "35922     0.423  2007        0.0185         0.470  301093.0   0.878   \n",
       "135823    0.302  1995        0.0384         0.176  142200.0   0.980   \n",
       "165395    0.828  1994        0.5310         0.705  187800.0   0.625   \n",
       "\n",
       "        instrumentalness  key  liveness  loudness mode  popularity  \\\n",
       "161704          0.007880   11     0.466    -7.604    1          25   \n",
       "168077          0.000011    8     0.136   -11.332    1          42   \n",
       "35922           0.083900   11     0.276    -5.576    0          65   \n",
       "135823          0.552000   11     0.237    -3.154    1          36   \n",
       "165395          0.000008    7     0.348   -11.963    0          38   \n",
       "\n",
       "        speechiness    tempo pop.class  \n",
       "161704       0.3990  170.475         C  \n",
       "168077       0.0553  107.477         B  \n",
       "35922        0.0377  150.093         A  \n",
       "135823       0.0721  172.566         C  \n",
       "165395       0.0639   97.831         C  "
      ]
     },
     "execution_count": 66,
     "metadata": {},
     "output_type": "execute_result"
    }
   ],
   "source": [
    "songs.head()"
   ]
  },
  {
   "cell_type": "code",
   "execution_count": 67,
   "metadata": {},
   "outputs": [
    {
     "data": {
      "text/plain": [
       "False"
      ]
     },
     "execution_count": 67,
     "metadata": {},
     "output_type": "execute_result"
    }
   ],
   "source": [
    "songs['key'].isnull().values.any()"
   ]
  },
  {
   "cell_type": "code",
   "execution_count": 68,
   "metadata": {},
   "outputs": [
    {
     "name": "stdout",
     "output_type": "stream",
     "text": [
      "valence             float64\n",
      "year                  int64\n",
      "acousticness        float64\n",
      "danceability        float64\n",
      "duration            float64\n",
      "energy              float64\n",
      "instrumentalness    float64\n",
      "key                   int64\n",
      "liveness            float64\n",
      "loudness            float64\n",
      "mode                 object\n",
      "popularity            int64\n",
      "speechiness         float64\n",
      "tempo               float64\n",
      "pop.class            object\n",
      "dtype: object\n"
     ]
    }
   ],
   "source": [
    "print(songs.dtypes)"
   ]
  },
  {
   "cell_type": "markdown",
   "metadata": {},
   "source": [
    "### Model"
   ]
  },
  {
   "cell_type": "code",
   "execution_count": 75,
   "metadata": {},
   "outputs": [
    {
     "name": "stdout",
     "output_type": "stream",
     "text": [
      "train_features:  (8000, 13)\n",
      "test_features:  (2000, 13)\n",
      "train_labels:  (8000, 1)\n",
      "test_labels:  (2000, 1)\n",
      "Training score:  0.719375\n",
      "Test score:  0.71\n",
      "Feature coefficients:  [[-9.99278379e-02  2.99956229e+00 -1.52606596e-01  9.09300980e-02\n",
      "  -2.11801955e-01 -7.07652180e-02 -3.07590345e-01  1.79550097e-02\n",
      "  -8.78979237e-02  1.40362994e-01 -4.59590282e-02 -2.50831231e-01\n",
      "  -3.10450957e-02]\n",
      " [ 1.23280854e-01  1.50207968e+00  2.36251806e-02 -9.26627349e-02\n",
      "   1.21665818e-01 -1.25507877e-01 -4.09738647e-02  4.11876504e-02\n",
      "  -2.93264232e-02  2.06607553e-01  8.90903777e-03 -2.34292505e-01\n",
      "   2.57762197e-02]\n",
      " [ 7.39166527e-02 -5.45656956e-01 -1.01241521e-01 -2.62746978e-02\n",
      "   5.46180829e-02  1.48995696e-01  2.21371529e-02 -1.73408429e-02\n",
      "   6.15747887e-02 -2.81815455e-01  3.34864914e-02  1.32049517e-02\n",
      "  -1.78488665e-02]\n",
      " [-9.72696690e-02 -3.95598502e+00  2.30222937e-01  2.80073347e-02\n",
      "   3.55180535e-02  4.72773989e-02  3.26427057e-01 -4.18018173e-02\n",
      "   5.56495582e-02 -6.51550918e-02  3.56349905e-03  4.71918784e-01\n",
      "   2.31177425e-02]]\n"
     ]
    },
    {
     "name": "stderr",
     "output_type": "stream",
     "text": [
      "/Library/Frameworks/Python.framework/Versions/3.7/lib/python3.7/site-packages/sklearn/utils/validation.py:63: DataConversionWarning: A column-vector y was passed when a 1d array was expected. Please change the shape of y to (n_samples, ), for example using ravel().\n",
      "  return f(*args, **kwargs)\n"
     ]
    }
   ],
   "source": [
    "features = songs[[\"valence\", \"year\", \"acousticness\", \"danceability\", \"duration\", \"energy\", \"instrumentalness\", \"key\", \"liveness\", \"loudness\", \"mode\", \"speechiness\", \"tempo\"]]\n",
    "pop_class = songs[[\"pop.class\"]]\n",
    "train_features, test_features, train_labels, test_labels = train_test_split(features, pop_class, test_size=0.2)\n",
    "\n",
    "print(\"train_features: \",train_features.shape)\n",
    "print(\"test_features: \",test_features.shape)\n",
    "print(\"train_labels: \",train_labels.shape)\n",
    "print(\"test_labels: \",test_labels.shape)\n",
    "\n",
    "#Scaling\n",
    "scaler = StandardScaler()\n",
    "train_features = scaler.fit_transform(train_features)\n",
    "test_features = scaler.fit_transform(test_features)\n",
    "\n",
    "model = LogisticRegression()\n",
    "model.fit(train_features, train_labels) #Train\n",
    "training_score = model.score(train_features, train_labels)\n",
    "test_score = model.score(test_features, test_labels)\n",
    "\n",
    "print(\"Training score: \", training_score)\n",
    "print(\"Test score: \", test_score)\n",
    "print(\"Feature coefficients: \",model.coef_)\n"
   ]
  },
  {
   "cell_type": "markdown",
   "metadata": {},
   "source": [
    "**Without year?**"
   ]
  },
  {
   "cell_type": "code",
   "execution_count": 73,
   "metadata": {},
   "outputs": [
    {
     "name": "stdout",
     "output_type": "stream",
     "text": [
      "Training score:  0.585625\n",
      "Test score:  0.5765\n"
     ]
    },
    {
     "name": "stderr",
     "output_type": "stream",
     "text": [
      "/Library/Frameworks/Python.framework/Versions/3.7/lib/python3.7/site-packages/sklearn/utils/validation.py:63: DataConversionWarning: A column-vector y was passed when a 1d array was expected. Please change the shape of y to (n_samples, ), for example using ravel().\n",
      "  return f(*args, **kwargs)\n"
     ]
    }
   ],
   "source": [
    "features = songs[[\"valence\", \"acousticness\", \"danceability\", \"duration\", \"energy\", \"instrumentalness\", \"key\", \"liveness\", \"loudness\", \"mode\", \"speechiness\", \"tempo\"]]\n",
    "pop_class = songs[[\"pop.class\"]]\n",
    "train_features, test_features, train_labels, test_labels = train_test_split(features, pop_class, test_size=0.2)\n",
    "\n",
    "#print(\"train_features: \",train_features.shape)\n",
    "#print(\"test_features: \",test_features.shape)\n",
    "#print(\"train_labels: \",train_labels.shape)\n",
    "#print(\"test_labels: \",test_labels.shape)\n",
    "\n",
    "#Scaling\n",
    "scaler = StandardScaler()\n",
    "train_features = scaler.fit_transform(train_features)\n",
    "test_features = scaler.fit_transform(test_features)\n",
    "\n",
    "model = LogisticRegression()\n",
    "model.fit(train_features, train_labels) #Train\n",
    "training_score = model.score(train_features, train_labels)\n",
    "test_score = model.score(test_features, test_labels)\n",
    "\n",
    "print('Training score: ', training_score)\n",
    "print('Test score: ', test_score)"
   ]
  },
  {
   "cell_type": "markdown",
   "metadata": {},
   "source": [
    "## Decision Trees"
   ]
  },
  {
   "cell_type": "code",
   "execution_count": 78,
   "metadata": {},
   "outputs": [
    {
     "data": {
      "text/html": [
       "<div>\n",
       "<style scoped>\n",
       "    .dataframe tbody tr th:only-of-type {\n",
       "        vertical-align: middle;\n",
       "    }\n",
       "\n",
       "    .dataframe tbody tr th {\n",
       "        vertical-align: top;\n",
       "    }\n",
       "\n",
       "    .dataframe thead th {\n",
       "        text-align: right;\n",
       "    }\n",
       "</style>\n",
       "<table border=\"1\" class=\"dataframe\">\n",
       "  <thead>\n",
       "    <tr style=\"text-align: right;\">\n",
       "      <th></th>\n",
       "      <th>valence</th>\n",
       "      <th>year</th>\n",
       "      <th>acousticness</th>\n",
       "      <th>danceability</th>\n",
       "      <th>duration</th>\n",
       "      <th>energy</th>\n",
       "      <th>instrumentalness</th>\n",
       "      <th>key</th>\n",
       "      <th>liveness</th>\n",
       "      <th>loudness</th>\n",
       "      <th>mode</th>\n",
       "      <th>popularity</th>\n",
       "      <th>speechiness</th>\n",
       "      <th>tempo</th>\n",
       "      <th>pop.class</th>\n",
       "    </tr>\n",
       "  </thead>\n",
       "  <tbody>\n",
       "    <tr>\n",
       "      <th>161704</th>\n",
       "      <td>0.647</td>\n",
       "      <td>1975</td>\n",
       "      <td>0.4490</td>\n",
       "      <td>0.376</td>\n",
       "      <td>298840.0</td>\n",
       "      <td>0.827</td>\n",
       "      <td>0.007880</td>\n",
       "      <td>11</td>\n",
       "      <td>0.466</td>\n",
       "      <td>-7.604</td>\n",
       "      <td>1</td>\n",
       "      <td>25</td>\n",
       "      <td>0.3990</td>\n",
       "      <td>170.475</td>\n",
       "      <td>C</td>\n",
       "    </tr>\n",
       "    <tr>\n",
       "      <th>168077</th>\n",
       "      <td>0.150</td>\n",
       "      <td>2008</td>\n",
       "      <td>0.8990</td>\n",
       "      <td>0.508</td>\n",
       "      <td>236800.0</td>\n",
       "      <td>0.169</td>\n",
       "      <td>0.000011</td>\n",
       "      <td>8</td>\n",
       "      <td>0.136</td>\n",
       "      <td>-11.332</td>\n",
       "      <td>1</td>\n",
       "      <td>42</td>\n",
       "      <td>0.0553</td>\n",
       "      <td>107.477</td>\n",
       "      <td>B</td>\n",
       "    </tr>\n",
       "    <tr>\n",
       "      <th>35922</th>\n",
       "      <td>0.423</td>\n",
       "      <td>2007</td>\n",
       "      <td>0.0185</td>\n",
       "      <td>0.470</td>\n",
       "      <td>301093.0</td>\n",
       "      <td>0.878</td>\n",
       "      <td>0.083900</td>\n",
       "      <td>11</td>\n",
       "      <td>0.276</td>\n",
       "      <td>-5.576</td>\n",
       "      <td>0</td>\n",
       "      <td>65</td>\n",
       "      <td>0.0377</td>\n",
       "      <td>150.093</td>\n",
       "      <td>A</td>\n",
       "    </tr>\n",
       "    <tr>\n",
       "      <th>135823</th>\n",
       "      <td>0.302</td>\n",
       "      <td>1995</td>\n",
       "      <td>0.0384</td>\n",
       "      <td>0.176</td>\n",
       "      <td>142200.0</td>\n",
       "      <td>0.980</td>\n",
       "      <td>0.552000</td>\n",
       "      <td>11</td>\n",
       "      <td>0.237</td>\n",
       "      <td>-3.154</td>\n",
       "      <td>1</td>\n",
       "      <td>36</td>\n",
       "      <td>0.0721</td>\n",
       "      <td>172.566</td>\n",
       "      <td>C</td>\n",
       "    </tr>\n",
       "    <tr>\n",
       "      <th>165395</th>\n",
       "      <td>0.828</td>\n",
       "      <td>1994</td>\n",
       "      <td>0.5310</td>\n",
       "      <td>0.705</td>\n",
       "      <td>187800.0</td>\n",
       "      <td>0.625</td>\n",
       "      <td>0.000008</td>\n",
       "      <td>7</td>\n",
       "      <td>0.348</td>\n",
       "      <td>-11.963</td>\n",
       "      <td>0</td>\n",
       "      <td>38</td>\n",
       "      <td>0.0639</td>\n",
       "      <td>97.831</td>\n",
       "      <td>C</td>\n",
       "    </tr>\n",
       "  </tbody>\n",
       "</table>\n",
       "</div>"
      ],
      "text/plain": [
       "        valence  year  acousticness  danceability  duration  energy  \\\n",
       "161704    0.647  1975        0.4490         0.376  298840.0   0.827   \n",
       "168077    0.150  2008        0.8990         0.508  236800.0   0.169   \n",
       "35922     0.423  2007        0.0185         0.470  301093.0   0.878   \n",
       "135823    0.302  1995        0.0384         0.176  142200.0   0.980   \n",
       "165395    0.828  1994        0.5310         0.705  187800.0   0.625   \n",
       "\n",
       "        instrumentalness  key  liveness  loudness mode  popularity  \\\n",
       "161704          0.007880   11     0.466    -7.604    1          25   \n",
       "168077          0.000011    8     0.136   -11.332    1          42   \n",
       "35922           0.083900   11     0.276    -5.576    0          65   \n",
       "135823          0.552000   11     0.237    -3.154    1          36   \n",
       "165395          0.000008    7     0.348   -11.963    0          38   \n",
       "\n",
       "        speechiness    tempo pop.class  \n",
       "161704       0.3990  170.475         C  \n",
       "168077       0.0553  107.477         B  \n",
       "35922        0.0377  150.093         A  \n",
       "135823       0.0721  172.566         C  \n",
       "165395       0.0639   97.831         C  "
      ]
     },
     "execution_count": 78,
     "metadata": {},
     "output_type": "execute_result"
    }
   ],
   "source": [
    "songs.head()"
   ]
  },
  {
   "cell_type": "code",
   "execution_count": 81,
   "metadata": {},
   "outputs": [
    {
     "name": "stdout",
     "output_type": "stream",
     "text": [
      "0.626\n"
     ]
    }
   ],
   "source": [
    "features = songs[[\"valence\", \"acousticness\", \"year\", \"danceability\", \"duration\", \"energy\", \"instrumentalness\", \"key\", \"liveness\", \"loudness\", \"mode\", \"speechiness\", \"tempo\"]]\n",
    "pop_class = songs[[\"pop.class\"]]\n",
    "\n",
    "train_features, test_features, train_labels, test_labels = train_test_split(features, pop_class, test_size=0.2)\n",
    "classifier = DecisionTreeClassifier()\n",
    "classifier.fit(train_features, train_labels)\n",
    "print(classifier.score(test_features, test_labels))"
   ]
  },
  {
   "cell_type": "markdown",
   "metadata": {},
   "source": [
    "**Pruning..?**"
   ]
  },
  {
   "cell_type": "code",
   "execution_count": 82,
   "metadata": {},
   "outputs": [
    {
     "name": "stdout",
     "output_type": "stream",
     "text": [
      "29\n"
     ]
    }
   ],
   "source": [
    "print(classifier.tree_.max_depth)"
   ]
  },
  {
   "cell_type": "code",
   "execution_count": 83,
   "metadata": {},
   "outputs": [
    {
     "name": "stdout",
     "output_type": "stream",
     "text": [
      "0.6245\n"
     ]
    }
   ],
   "source": [
    "classifier = DecisionTreeClassifier(random_state=0, max_depth=28)\n",
    "classifier.fit(train_features, train_labels)\n",
    "print(classifier.score(test_features, test_labels))"
   ]
  },
  {
   "cell_type": "markdown",
   "metadata": {},
   "source": [
    "## Random Forest"
   ]
  },
  {
   "cell_type": "code",
   "execution_count": 86,
   "metadata": {},
   "outputs": [
    {
     "name": "stderr",
     "output_type": "stream",
     "text": [
      "/Library/Frameworks/Python.framework/Versions/3.7/lib/python3.7/site-packages/ipykernel_launcher.py:6: DataConversionWarning: A column-vector y was passed when a 1d array was expected. Please change the shape of y to (n_samples,), for example using ravel().\n",
      "  \n"
     ]
    },
    {
     "name": "stdout",
     "output_type": "stream",
     "text": [
      "0.7405\n"
     ]
    }
   ],
   "source": [
    "features = songs[[\"valence\", \"acousticness\", \"year\", \"danceability\", \"duration\", \"energy\", \"instrumentalness\", \"key\", \"liveness\", \"loudness\", \"mode\", \"speechiness\", \"tempo\"]]\n",
    "pop_class = songs[[\"pop.class\"]]\n",
    "train_features, test_features, train_labels, test_labels = train_test_split(features, pop_class, test_size=0.2)\n",
    "\n",
    "classifier = RandomForestClassifier(n_estimators = 2000, random_state=0)\n",
    "classifier.fit(train_features, train_labels)\n",
    "print(classifier.score(test_features, test_labels))"
   ]
  }
 ],
 "metadata": {
  "kernelspec": {
   "display_name": "Python 3",
   "language": "python",
   "name": "python3"
  },
  "language_info": {
   "codemirror_mode": {
    "name": "ipython",
    "version": 3
   },
   "file_extension": ".py",
   "mimetype": "text/x-python",
   "name": "python",
   "nbconvert_exporter": "python",
   "pygments_lexer": "ipython3",
   "version": "3.7.0"
  }
 },
 "nbformat": 4,
 "nbformat_minor": 2
}
